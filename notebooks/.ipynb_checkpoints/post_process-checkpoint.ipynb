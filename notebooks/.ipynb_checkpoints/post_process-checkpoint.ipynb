{
 "cells": [
  {
   "cell_type": "code",
   "execution_count": 39,
   "metadata": {},
   "outputs": [],
   "source": [
    "import pandas as pd\n",
    "from tqdm import tqdm"
   ]
  },
  {
   "cell_type": "code",
   "execution_count": 40,
   "metadata": {},
   "outputs": [],
   "source": [
    "df=pd.read_csv('./test_predictions.csv')"
   ]
  },
  {
   "cell_type": "code",
   "execution_count": 41,
   "metadata": {},
   "outputs": [],
   "source": [
    "df = df.drop(columns=['Unnamed: 0'])"
   ]
  },
  {
   "cell_type": "code",
   "execution_count": 42,
   "metadata": {},
   "outputs": [],
   "source": [
    "df['image_name'] = df.files.apply(lambda x: x.split('/')[-1].split('-')[0]+'.jpg')"
   ]
  },
  {
   "cell_type": "code",
   "execution_count": 43,
   "metadata": {},
   "outputs": [
    {
     "data": {
      "text/html": [
       "<div>\n",
       "<style scoped>\n",
       "    .dataframe tbody tr th:only-of-type {\n",
       "        vertical-align: middle;\n",
       "    }\n",
       "\n",
       "    .dataframe tbody tr th {\n",
       "        vertical-align: top;\n",
       "    }\n",
       "\n",
       "    .dataframe thead th {\n",
       "        text-align: right;\n",
       "    }\n",
       "</style>\n",
       "<table border=\"1\" class=\"dataframe\">\n",
       "  <thead>\n",
       "    <tr style=\"text-align: right;\">\n",
       "      <th></th>\n",
       "      <th>files</th>\n",
       "      <th>y_true</th>\n",
       "      <th>y_pred</th>\n",
       "      <th>image_name</th>\n",
       "    </tr>\n",
       "  </thead>\n",
       "  <tbody>\n",
       "    <tr>\n",
       "      <th>0</th>\n",
       "      <td>../test/2/24b_d4.1_1-2_414_160.jpg</td>\n",
       "      <td>2</td>\n",
       "      <td>2</td>\n",
       "      <td>24b_d4.1_1.jpg</td>\n",
       "    </tr>\n",
       "    <tr>\n",
       "      <th>1</th>\n",
       "      <td>../test/2/5_c4.1_2-2_394_58.jpg</td>\n",
       "      <td>2</td>\n",
       "      <td>2</td>\n",
       "      <td>5_c4.1_2.jpg</td>\n",
       "    </tr>\n",
       "    <tr>\n",
       "      <th>2</th>\n",
       "      <td>../test/2/5_c4.2_0-2_439_80.jpg</td>\n",
       "      <td>2</td>\n",
       "      <td>2</td>\n",
       "      <td>5_c4.2_0.jpg</td>\n",
       "    </tr>\n",
       "    <tr>\n",
       "      <th>3</th>\n",
       "      <td>../test/2/5_c6.1_2-2_311_190.jpg</td>\n",
       "      <td>2</td>\n",
       "      <td>2</td>\n",
       "      <td>5_c6.1_2.jpg</td>\n",
       "    </tr>\n",
       "    <tr>\n",
       "      <th>4</th>\n",
       "      <td>../test/2/5_c4.1_2-2_221_382.jpg</td>\n",
       "      <td>2</td>\n",
       "      <td>2</td>\n",
       "      <td>5_c4.1_2.jpg</td>\n",
       "    </tr>\n",
       "  </tbody>\n",
       "</table>\n",
       "</div>"
      ],
      "text/plain": [
       "                                files  y_true  y_pred      image_name\n",
       "0  ../test/2/24b_d4.1_1-2_414_160.jpg       2       2  24b_d4.1_1.jpg\n",
       "1     ../test/2/5_c4.1_2-2_394_58.jpg       2       2    5_c4.1_2.jpg\n",
       "2     ../test/2/5_c4.2_0-2_439_80.jpg       2       2    5_c4.2_0.jpg\n",
       "3    ../test/2/5_c6.1_2-2_311_190.jpg       2       2    5_c6.1_2.jpg\n",
       "4    ../test/2/5_c4.1_2-2_221_382.jpg       2       2    5_c4.1_2.jpg"
      ]
     },
     "execution_count": 43,
     "metadata": {},
     "output_type": "execute_result"
    }
   ],
   "source": [
    "df.head()"
   ]
  },
  {
   "cell_type": "code",
   "execution_count": 44,
   "metadata": {},
   "outputs": [],
   "source": [
    "groups = df.groupby(by='image_name')"
   ]
  },
  {
   "cell_type": "code",
   "execution_count": 57,
   "metadata": {},
   "outputs": [
    {
     "name": "stderr",
     "output_type": "stream",
     "text": [
      "100%|██████████| 181/181 [00:00<00:00, 313.40it/s]\n"
     ]
    }
   ],
   "source": [
    "result_df = None\n",
    "for name, data in tqdm(groups):\n",
    "    try:\n",
    "        line={'name' : name,\n",
    "             'gt_1' : data.y_true.value_counts()[1],\n",
    "             'gt_2' : data.y_true.value_counts()[2],\n",
    "             'pred_1' : data.y_pred.value_counts()[1],\n",
    "             'pred_2' : data.y_pred.value_counts()[2]}\n",
    "\n",
    "        df = pd.DataFrame(line,columns=['name','gt_1','gt_2','pred_1','pred_2'],index=[0])\n",
    "        if result_df is None:\n",
    "            result_df = df\n",
    "        else:\n",
    "            result_df = pd.concat([result_df,df])\n",
    "    except:\n",
    "        pass"
   ]
  },
  {
   "cell_type": "code",
   "execution_count": 58,
   "metadata": {
    "scrolled": true
   },
   "outputs": [
    {
     "name": "stdout",
     "output_type": "stream",
     "text": [
      "              name  gt_1  gt_2  pred_1  pred_2\n",
      "0   24b_d1.0_3.jpg    20     1      19       1\n",
      "0   24b_d1.1_0.jpg    47     7      47       7\n",
      "0   24b_d1.1_1.jpg    38     3      33       3\n",
      "0   24b_d1.1_2.jpg    22     3      22       3\n",
      "0   24b_d1.1_3.jpg    10     1      10       1\n",
      "0   24b_d1.2_0.jpg    35     5      34       4\n",
      "0   24b_d1.2_1.jpg    32     5      32       5\n",
      "0   24b_d1.2_2.jpg    17     2      17       2\n",
      "0   24b_d1.2_3.jpg     8     4       8       4\n",
      "0   24b_d1.3_0.jpg    34     3      34       3\n",
      "0   24b_d1.3_1.jpg    31     1      31       1\n",
      "0   24b_d1.3_2.jpg     8     1       8       1\n",
      "0   24b_d1.3_3.jpg     8     1       8       1\n",
      "0   24b_d2.0_0.jpg    85    15      85      15\n",
      "0   24b_d2.0_1.jpg    94     9      93       9\n",
      "0   24b_d2.0_2.jpg    52     3      51       2\n",
      "0   24b_d2.0_3.jpg    30     5      30       4\n",
      "0   24b_d2.1_0.jpg   108    13      99      13\n",
      "0   24b_d2.1_1.jpg    97    15      93      15\n",
      "0   24b_d2.1_2.jpg    63     5      61       3\n",
      "0   24b_d2.1_3.jpg    40     6      37       6\n",
      "0   24b_d2.2_0.jpg   110    11     107      11\n",
      "0   24b_d2.2_1.jpg   106    20      98      22\n",
      "0   24b_d2.2_2.jpg    81     9      77       9\n",
      "0   24b_d2.2_3.jpg    38     6      35       6\n",
      "0   24b_d2.3_0.jpg    83     9      82       8\n",
      "0   24b_d2.3_1.jpg    74    14      74      13\n",
      "0   24b_d2.3_2.jpg    61     5      59       5\n",
      "0   24b_d2.3_3.jpg    32     1      32       1\n",
      "0   24b_d3.0_0.jpg   103    21     101      21\n",
      "..             ...   ...   ...     ...     ...\n",
      "0     5_c4.0_2.jpg    88   176      87     165\n",
      "0     5_c4.0_3.jpg    72   181      71     172\n",
      "0     5_c4.1_0.jpg    73   168      69     162\n",
      "0     5_c4.1_1.jpg    65   183      59     176\n",
      "0     5_c4.1_2.jpg    75   204      75     182\n",
      "0     5_c4.1_3.jpg    79   196      76     187\n",
      "0     5_c4.2_0.jpg    67   145      65     136\n",
      "0     5_c4.2_1.jpg    78   171      76     156\n",
      "0     5_c4.2_2.jpg    74   186      73     174\n",
      "0     5_c4.2_3.jpg    58   210      63     196\n",
      "0     5_c4.3_0.jpg    71    98      69      80\n",
      "0     5_c4.3_1.jpg    78   160      78     134\n",
      "0     5_c4.3_2.jpg    64   176      70     142\n",
      "0     5_c4.3_3.jpg    66   183      67     167\n",
      "0     5_c6.0_0.jpg     9    48      12      39\n",
      "0     5_c6.0_1.jpg    19    51      19      36\n",
      "0     5_c6.0_2.jpg    25    48      25      40\n",
      "0     5_c6.0_3.jpg    27    58      32      40\n",
      "0     5_c6.1_0.jpg    17    46      17      43\n",
      "0     5_c6.1_1.jpg    13    74      15      60\n",
      "0     5_c6.1_2.jpg    21    63      25      55\n",
      "0     5_c6.1_3.jpg    19    44      20      35\n",
      "0     5_c6.2_0.jpg    14    42      14      40\n",
      "0     5_c6.2_1.jpg    14    43      14      41\n",
      "0     5_c6.2_2.jpg    18    38      19      33\n",
      "0     5_c6.2_3.jpg    12    34      12      29\n",
      "0     5_c6.3_0.jpg     9    30       8      26\n",
      "0     5_c6.3_1.jpg    23    25      23      23\n",
      "0     5_c6.3_2.jpg    16    26      16      25\n",
      "0     5_c6.3_3.jpg    10    23      11      20\n",
      "\n",
      "[161 rows x 5 columns]\n"
     ]
    }
   ],
   "source": [
    "print(result_df)"
   ]
  },
  {
   "cell_type": "code",
   "execution_count": 61,
   "metadata": {},
   "outputs": [],
   "source": [
    "result_df[['name','gt_1','gt_2','pred_1','pred_2']].to_excel('processed.xls')"
   ]
  },
  {
   "cell_type": "code",
   "execution_count": null,
   "metadata": {},
   "outputs": [],
   "source": []
  }
 ],
 "metadata": {
  "kernelspec": {
   "display_name": "Python 3",
   "language": "python",
   "name": "python3"
  },
  "language_info": {
   "codemirror_mode": {
    "name": "ipython",
    "version": 3
   },
   "file_extension": ".py",
   "mimetype": "text/x-python",
   "name": "python",
   "nbconvert_exporter": "python",
   "pygments_lexer": "ipython3",
   "version": "3.5.4"
  }
 },
 "nbformat": 4,
 "nbformat_minor": 2
}
